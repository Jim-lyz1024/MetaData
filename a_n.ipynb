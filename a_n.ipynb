{
 "cells": [
  {
   "cell_type": "code",
   "execution_count": 19,
   "metadata": {},
   "outputs": [],
   "source": [
    "import os\n",
    "\n",
    "def load_labels(label_file_path):\n",
    "    image_labels = []\n",
    "    with open(label_file_path, 'r') as f:\n",
    "        for line in f:\n",
    "            # 每行格式：图片文件名 + 标签\n",
    "            line = line.strip()\n",
    "            if line:\n",
    "                image_file, label = line.split()\n",
    "                image_labels.append((image_file, int(label)))  # 图片名和标签\n",
    "    return image_labels\n",
    "\n",
    "label_file_path = 'labelled_stoat.txt'\n",
    "image_labels = load_labels(label_file_path)\n",
    "# image_labels\n"
   ]
  },
  {
   "cell_type": "code",
   "execution_count": 20,
   "metadata": {},
   "outputs": [],
   "source": [
    "from torch.utils.data import Dataset\n",
    "from PIL import Image\n",
    "import torchvision.transforms as transforms\n",
    "\n",
    "class StoatDataset(Dataset):\n",
    "    def __init__(self, image_labels, image_dir, transform=None):\n",
    "        self.image_labels = image_labels\n",
    "        self.image_dir = image_dir\n",
    "        self.transform = transform\n",
    "    \n",
    "    def __len__(self):\n",
    "        return len(self.image_labels)\n",
    "    \n",
    "    def __getitem__(self, idx):\n",
    "        image_file, label = self.image_labels[idx]\n",
    "        image_path = os.path.join(self.image_dir, image_file)\n",
    "        image = Image.open(image_path).convert(\"RGB\")\n",
    "        if self.transform:\n",
    "            image = self.transform(image)\n",
    "        return image, label\n",
    "\n",
    "# 图像目录\n",
    "image_dir = '/raid/yil708/stoat_data/auxiliary_network_pics/labelled_auxiliary_network_pics/labelled_auxiliary_network_pics/'\n",
    "\n",
    "# 图像转换，数据增强\n",
    "transform = transforms.Compose([\n",
    "    transforms.Resize((224, 224)),\n",
    "    transforms.RandomHorizontalFlip(),\n",
    "    transforms.ToTensor(),\n",
    "    transforms.Normalize(mean=[0.485, 0.456, 0.406], std=[0.229, 0.224, 0.225])\n",
    "])\n",
    "\n",
    "# 加载自定义的 Dataset\n",
    "stoat_dataset = StoatDataset(image_labels, image_dir, transform=transform)\n"
   ]
  },
  {
   "cell_type": "code",
   "execution_count": 21,
   "metadata": {},
   "outputs": [],
   "source": [
    "from torch.utils.data import DataLoader, random_split\n",
    "\n",
    "# 将数据集划分为80%训练集和20%验证集\n",
    "train_size = int(0.8 * len(stoat_dataset))\n",
    "val_size = len(stoat_dataset) - train_size\n",
    "train_dataset, val_dataset = random_split(stoat_dataset, [train_size, val_size])\n",
    "\n",
    "# 创建 DataLoader\n",
    "train_loader = DataLoader(train_dataset, batch_size=32, shuffle=True)\n",
    "val_loader = DataLoader(val_dataset, batch_size=32, shuffle=False)\n"
   ]
  },
  {
   "cell_type": "code",
   "execution_count": 22,
   "metadata": {},
   "outputs": [],
   "source": [
    "import torch\n",
    "import torch.nn as nn\n",
    "import torchvision.models as models\n",
    "\n",
    "# 选择GPU设备\n",
    "device = torch.device('cuda' if torch.cuda.is_available() else 'cpu')\n",
    "\n",
    "# 加载预训练的ResNet50模型\n",
    "model = models.resnet50(pretrained=True)\n",
    "\n",
    "# 修改最后的全连接层，输出4个分类\n",
    "num_features = model.fc.in_features\n",
    "model.fc = nn.Linear(num_features, 4)  # 4类：正面、背面、左侧面、右侧面\n",
    "\n",
    "# 将模型转移到GPU上\n",
    "model = model.to(device)"
   ]
  },
  {
   "cell_type": "code",
   "execution_count": 23,
   "metadata": {},
   "outputs": [],
   "source": [
    "import torch.optim as optim\n",
    "\n",
    "# 定义损失函数和优化器\n",
    "criterion = nn.CrossEntropyLoss()\n",
    "optimizer = optim.Adam(model.parameters(), lr=0.001)"
   ]
  },
  {
   "cell_type": "code",
   "execution_count": 24,
   "metadata": {},
   "outputs": [
    {
     "name": "stdout",
     "output_type": "stream",
     "text": [
      "Epoch 1/10, Loss: 0.0457, Accuracy: 31.91%\n"
     ]
    },
    {
     "name": "stderr",
     "output_type": "stream",
     "text": [
      "/home/yil708/data/miniconda3/envs/clipreid/lib/python3.8/site-packages/torch/nn/modules/conv.py:456: UserWarning: Plan failed with a cudnnException: CUDNN_BACKEND_EXECUTION_PLAN_DESCRIPTOR: cudnnFinalize Descriptor Failed cudnn_status: CUDNN_STATUS_NOT_SUPPORTED (Triggered internally at /opt/conda/conda-bld/pytorch_1712608851799/work/aten/src/ATen/native/cudnn/Conv_v8.cpp:919.)\n",
      "  return F.conv2d(input, weight, bias, self.stride,\n"
     ]
    },
    {
     "name": "stdout",
     "output_type": "stream",
     "text": [
      "Validation Accuracy: 32.99%\n",
      "Epoch 2/10, Loss: 0.0422, Accuracy: 37.32%\n",
      "Validation Accuracy: 36.91%\n",
      "Epoch 3/10, Loss: 0.0413, Accuracy: 37.53%\n",
      "Validation Accuracy: 38.14%\n",
      "Epoch 4/10, Loss: 0.0399, Accuracy: 42.22%\n",
      "Validation Accuracy: 37.94%\n",
      "Epoch 5/10, Loss: 0.0385, Accuracy: 44.54%\n",
      "Validation Accuracy: 38.97%\n",
      "Epoch 6/10, Loss: 0.0371, Accuracy: 45.00%\n",
      "Validation Accuracy: 47.63%\n",
      "Epoch 7/10, Loss: 0.0345, Accuracy: 52.47%\n",
      "Validation Accuracy: 47.01%\n",
      "Epoch 8/10, Loss: 0.0330, Accuracy: 54.90%\n",
      "Validation Accuracy: 50.72%\n",
      "Epoch 9/10, Loss: 0.0302, Accuracy: 59.59%\n",
      "Validation Accuracy: 58.76%\n",
      "Epoch 10/10, Loss: 0.0275, Accuracy: 64.43%\n",
      "Validation Accuracy: 59.38%\n"
     ]
    }
   ],
   "source": [
    "# 训练模型函数\n",
    "def train_model(model, criterion, optimizer, train_loader, val_loader, num_epochs=10):\n",
    "    for epoch in range(num_epochs):\n",
    "        # 训练模式\n",
    "        model.train()\n",
    "        running_loss = 0.0\n",
    "        correct = 0\n",
    "        total = 0\n",
    "        \n",
    "        for inputs, labels in train_loader:\n",
    "            inputs, labels = inputs.to(device), labels.to(device)\n",
    "            \n",
    "            optimizer.zero_grad()\n",
    "            outputs = model(inputs)\n",
    "            loss = criterion(outputs, labels)\n",
    "            loss.backward()\n",
    "            optimizer.step()\n",
    "\n",
    "            running_loss += loss.item()\n",
    "            _, predicted = torch.max(outputs, 1)\n",
    "            total += labels.size(0)\n",
    "            correct += (predicted == labels).sum().item()\n",
    "        \n",
    "        train_accuracy = correct / total * 100\n",
    "        print(f\"Epoch {epoch+1}/{num_epochs}, Loss: {running_loss/total:.4f}, Accuracy: {train_accuracy:.2f}%\")\n",
    "        \n",
    "        # 验证模式\n",
    "        model.eval()\n",
    "        val_correct = 0\n",
    "        val_total = 0\n",
    "        with torch.no_grad():\n",
    "            for inputs, labels in val_loader:\n",
    "                inputs, labels = inputs.to(device), labels.to(device)\n",
    "                outputs = model(inputs)\n",
    "                _, predicted = torch.max(outputs, 1)\n",
    "                val_total += labels.size(0)\n",
    "                val_correct += (predicted == labels).sum().item()\n",
    "        \n",
    "        val_accuracy = val_correct / val_total * 100\n",
    "        print(f\"Validation Accuracy: {val_accuracy:.2f}%\")\n",
    "\n",
    "# 开始训练\n",
    "train_model(model, criterion, optimizer, train_loader, val_loader, num_epochs=10)"
   ]
  }
 ],
 "metadata": {
  "kernelspec": {
   "display_name": "clipreid",
   "language": "python",
   "name": "python3"
  },
  "language_info": {
   "codemirror_mode": {
    "name": "ipython",
    "version": 3
   },
   "file_extension": ".py",
   "mimetype": "text/x-python",
   "name": "python",
   "nbconvert_exporter": "python",
   "pygments_lexer": "ipython3",
   "version": "3.8.19"
  }
 },
 "nbformat": 4,
 "nbformat_minor": 2
}
